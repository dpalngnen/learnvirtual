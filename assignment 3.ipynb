{
 "cells": [
  {
   "cell_type": "code",
   "execution_count": 14,
   "metadata": {},
   "outputs": [],
   "source": [
    "#program to output bank customers details\n",
    "class bank_customers():\n",
    "    def __init__(self,firstName,lastName):\n",
    "        self.firstName = firstName\n",
    "        self.lastName = lastName\n",
    "        \n",
    "class bank_accts():\n",
    "    def _init_(self,customer,acct_type,balance):\n",
    "        self.customer = customer\n",
    "        self.acct_type = acct_type\n",
    "        self.balance = balance\n",
    "    def acct_details(self):\n",
    "        print( f\" hello {self.customer}, with account type {self.acct_type}, has a balance of {self.balance}.\")\n"
   ]
  },
  {
   "cell_type": "code",
   "execution_count": null,
   "metadata": {},
   "outputs": [],
   "source": [
    "client1 = bank_accts('Dajur Annie','savings', '#200000')\n",
    "client2 = bank_accts('Daniel Hanson','current', '#40000')\n",
    "\n",
    "print('The bank details of the clients are as follows:')\n",
    "client1.acct_details()\n",
    "client2.acct_details()\n"
   ]
  },
  {
   "cell_type": "code",
   "execution_count": 9,
   "metadata": {},
   "outputs": [],
   "source": [
    "#program to output the different types of planets with their attributes\n",
    "class solar_system():\n",
    "    def __init__( self,name_of_planet,dist_from_sun,gravity):\n",
    "        self.name_of_planet = name_of_planet\n",
    "        self.dist_from_sun = dist_from_sun\n",
    "        self.gravity = gravity\n",
    "    def attributes(self):\n",
    "        print(f\"The planet {self.name_of_planet} is {self.dist_from_sun} apart from the sun and has a surface gravity of {self.gravity} compared to Earth.\")\n"
   ]
  },
  {
   "cell_type": "code",
   "execution_count": 11,
   "metadata": {},
   "outputs": [
    {
     "name": "stdout",
     "output_type": "stream",
     "text": [
      "The planet Jupiter is 778,500,000 km apart from the sun and has a surface gravity of 2.36 compared to Earth.\n",
      "The planet Mars is 228,000,000 km apart from the sun and has a surface gravity of 0.377 compared to Earth.\n",
      "The planet Venus is 108,200,000 apart from the sun and has a surface gravity of 0.907 compared to Earth.\n",
      "The planet Saturn is 1,427,000,000 km apart from the sun and has a surface gravity of 0.916 compared to Earth.\n",
      "The planet Mercury is 57,910,000 km apart from the sun and has a surface gravity of 0.378 compared to Earth.\n",
      "The planet Neptune is 4,497,100,000 km apart from the sun and has a surface gravity of 1.12 compared to Earth.\n",
      "The planet Uranus is 2,871,000,000 km apart from the sun and has a surface gravity of 0.889 compared to Earth.\n"
     ]
    }
   ],
   "source": [
    "planet1 = solar_system('Jupiter','778,500,000 km','2.36')\n",
    "planet2 = solar_system('Mars','228,000,000 km','0.377')\n",
    "planet3 = solar_system('Venus','108,200,000','0.907')\n",
    "planet4 = solar_system('Saturn','1,427,000,000 km','0.916')\n",
    "planet5 = solar_system('Mercury','57,910,000 km','0.378')\n",
    "planet6 = solar_system('Neptune','4,497,100,000 km','1.12')\n",
    "planet7 = solar_system('Uranus','2,871,000,000 km','0.889')\n",
    "planet1.attributes()\n",
    "planet2.attributes()\n",
    "planet3.attributes()\n",
    "planet4.attributes()\n",
    "planet5.attributes()\n",
    "planet6.attributes()\n",
    "planet7.attributes()\n"
   ]
  },
  {
   "cell_type": "code",
   "execution_count": null,
   "metadata": {},
   "outputs": [],
   "source": []
  }
 ],
 "metadata": {
  "kernelspec": {
   "display_name": "Python 3",
   "language": "python",
   "name": "python3"
  },
  "language_info": {
   "codemirror_mode": {
    "name": "ipython",
    "version": 3
   },
   "file_extension": ".py",
   "mimetype": "text/x-python",
   "name": "python",
   "nbconvert_exporter": "python",
   "pygments_lexer": "ipython3",
   "version": "3.7.6"
  }
 },
 "nbformat": 4,
 "nbformat_minor": 4
}
