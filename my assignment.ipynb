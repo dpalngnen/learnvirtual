{
 "cells": [
  {
   "cell_type": "code",
   "execution_count": null,
   "metadata": {},
   "outputs": [],
   "source": [
    "# program to solve simple interest\n",
    "P = float(input(\"Enter the principal:\" + \"(naira)\"))\n",
    "R = float(input(\"Enter the rate: \" +\"(%)\") )\n",
    "T = float(input(\"Time taken: \" + '(years)'))\n",
    "constant = 100\n",
    "S_I = P*R*T//constant\n",
    "print(\"The simple interest is:\" + str(S_I))"
   ]
  },
  {
   "cell_type": "code",
   "execution_count": null,
   "metadata": {},
   "outputs": [],
   "source": [
    "#area of a circle\n",
    "\n",
    "from math import pi\n",
    "r = float(input(\"Input the radius of the circle: \"))\n",
    "area_circle = pi * r**2\n",
    "print(\"The area of the circle is: \" + str(area_circle))"
   ]
  },
  {
   "cell_type": "code",
   "execution_count": null,
   "metadata": {},
   "outputs": [],
   "source": [
    "#plan of the week\n",
    "weekday=['monday','tuesday','wednesday','thursday','friday']\n",
    "weekend = ['saturday','sunday']\n",
    "day= input('what day is it today?')\n",
    "hobbies=['running','reading', 'hanging_out']\n",
    "if day in weekday:\n",
    "    print('get up and go to work')\n",
    "elif day in weekend:\n",
    "    print(\"It's weekend,try \" + hobbies[-1] + ' with friends')\n",
    "else:\n",
    "    print('work is done')"
   ]
  },
  {
   "cell_type": "code",
   "execution_count": null,
   "metadata": {},
   "outputs": [],
   "source": [
    "# using for loop to create a list\n",
    "i=list(range(100))\n",
    "for i in range(100,1,1):\n",
    "     i+=1\n",
    "print (i)"
   ]
  },
  {
   "cell_type": "code",
   "execution_count": null,
   "metadata": {},
   "outputs": [],
   "source": [
    "# simple restaurant menu\n",
    "print(\"Hello welcome to Niston's kitchen. \\n What is your name?\")\n",
    "name=str(input())\n",
    "print(\"You're welcome \" + name+\".\" )\n",
    "print(\"We have a lot of mind blowing cusines to try out.\\n Here's the menu, take a look and make your choice.\")\n",
    "menu = input('\\n(a) chicken curry \\n(b) chicken stir fry spaghetti \\n(c) lasagna \\n(d) pizza \\n(e) fried rice and chicken \\n(f) kfc chicken : ')\n",
    "drinks = input('\\n(a) coke \\n(b) maltina \\n(c) water \\n(d) wine')\n",
    "if menu.lower() =='a':\n",
    "    print('Amazing choice!! coming up right away.')\n",
    "print('Please make your payments at the counter. \\nThank you')\n",
    "elif menu.lower() =='b':\n",
    "    print('Awesome choice, coming up rightaway.')\n",
    "print('Please make your payments at the counter. \\nThank you')\n",
    "elif menu.lower() =='c':\n",
    "    print('Great choice, coming up rightaway.')\n",
    "print('Please make your payments at the counter. \\nThank you')\n",
    "elif menu.lower() =='d':\n",
    "    print('ok!!, coming up rightaway.')\n",
    "print('Please make your payments at the counter. \\nThank you')\n",
    "elif menu.lower() =='e':\n",
    "    print('superb, coming up rightaway.')\n",
    "print('Please make your payments at the counter. \\nThank you')\n",
    "elif menu.lower() =='f':\n",
    "    print('Alright, coming up rightaway.')\n",
    "print('Please make your payments at the counter. \\nThank you')\n",
    "else:\n",
    "    print('Would you want another thing that is not on the menu?')"
   ]
  },
  {
   "cell_type": "code",
   "execution_count": null,
   "metadata": {},
   "outputs": [],
   "source": [
    "# automated teller machine\n",
    "balance=200000\n",
    "name=input('What is the name on your bank account?')\n",
    "print('Welcome ' + name )\n",
    "transaction= input('Please select transaction you want to perform: \\n (a)Withdrawal \\n(b)Deposit \\n(c)Transfer \\n(d)Airtime Topup \\n(e)Quickteller' )\n",
    "if transaction == 'a':\n",
    "    withdrawal = int(input(\"Input the amount you want to withdraw:\"))\n",
    "if withdrawal<1000:\n",
    "    print(\" Cant dispense cash less than 100\")\n",
    "amount=int(input(\"Please input from 1000 and above: \"))\n",
    "if amount < balance:\n",
    "    print('Trasaction has been approved, take your cash')\n",
    "newbalance = balance - amount\n",
    "print('Your new account balance is: ' +str(newbalance) )\n",
    "print('Thank you for banking with us!!!')\n",
    "if transaction == 'b':\n",
    "    deposit = int(input(\"Input the amount you want to deposit: \"))\n",
    "account_no = int(input(\"Input the beneficiary's acount number: \"))\n",
    "if deposit < balance:\n",
    "    print('Transaction has been approved')\n",
    "nbalance = balance - deposit\n",
    "print('Your new account balance is: ' +str(nbalance) )\n",
    "print('Thank you for banking with us!!!')\n"
   ]
  }
 ],
 "metadata": {
  "kernelspec": {
   "display_name": "Python 3",
   "language": "python",
   "name": "python3"
  },
  "language_info": {
   "codemirror_mode": {
    "name": "ipython",
    "version": 3
   },
   "file_extension": ".py",
   "mimetype": "text/x-python",
   "name": "python",
   "nbconvert_exporter": "python",
   "pygments_lexer": "ipython3",
   "version": "3.7.6"
  }
 },
 "nbformat": 4,
 "nbformat_minor": 4
}
