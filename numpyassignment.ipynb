{
 "cells": [
  {
   "cell_type": "code",
   "execution_count": 2,
   "metadata": {},
   "outputs": [],
   "source": [
    "import numpy as np\n",
    "from numpy.random import rand"
   ]
  },
  {
   "cell_type": "code",
   "execution_count": 9,
   "metadata": {},
   "outputs": [
    {
     "data": {
      "text/plain": [
       "array([[ 66,  72,  78],\n",
       "       [156, 171, 186]])"
      ]
     },
     "execution_count": 9,
     "metadata": {},
     "output_type": "execute_result"
    }
   ],
   "source": [
    "#1 write a numpy program and find the product of 2d arrays and 3d array\n",
    "x = np.array([[1,2,3],[4,5,6]])\n",
    "y = np.array([[7,8,9],[10,11,12],[13,14,15]])\n",
    "x,y\n",
    "np.dot(x,y)\n"
   ]
  },
  {
   "cell_type": "code",
   "execution_count": 3,
   "metadata": {},
   "outputs": [],
   "source": [
    "#2 do a simple calculation using sin,cos,tan,log"
   ]
  },
  {
   "cell_type": "code",
   "execution_count": 17,
   "metadata": {},
   "outputs": [
    {
     "data": {
      "text/plain": [
       "array([[0.85297492, 0.92308365, 0.62337758],\n",
       "       [0.57267054, 0.97832071, 0.89149696],\n",
       "       [0.58806822, 0.0381996 , 0.88850147],\n",
       "       [0.68442449, 0.52662027, 0.93444725],\n",
       "       [0.34125605, 0.30444894, 0.65201491]])"
      ]
     },
     "execution_count": 17,
     "metadata": {},
     "output_type": "execute_result"
    }
   ],
   "source": [
    "a = np.random.rand(5,3)\n",
    "a"
   ]
  },
  {
   "cell_type": "code",
   "execution_count": 18,
   "metadata": {},
   "outputs": [
    {
     "data": {
      "text/plain": [
       "array([[0.18083937, 0.16710452, 0.24744465],\n",
       "       [0.26935461, 0.15766962, 0.17302521],\n",
       "       [0.26230197, 4.038038  , 0.17360855],\n",
       "       [0.22537395, 0.2929083 , 0.1650724 ],\n",
       "       [0.45201089, 0.50665787, 0.23657657]])"
      ]
     },
     "execution_count": 18,
     "metadata": {},
     "output_type": "execute_result"
    }
   ],
   "source": [
    "np.cos(30)/a"
   ]
  },
  {
   "cell_type": "code",
   "execution_count": 19,
   "metadata": {},
   "outputs": [
    {
     "data": {
      "text/plain": [
       "array([[ 0.99757156,  0.92180543,  1.36498897],\n",
       "       [ 1.48585174,  0.86975929,  0.95446599],\n",
       "       [ 1.44694697, 22.27519268,  0.95768387],\n",
       "       [ 1.24323944,  1.61578195,  0.91059557],\n",
       "       [ 2.493446  ,  2.79489736,  1.30503692]])"
      ]
     },
     "execution_count": 19,
     "metadata": {},
     "output_type": "execute_result"
    }
   ],
   "source": [
    "np.sin(45)/a"
   ]
  },
  {
   "cell_type": "code",
   "execution_count": 21,
   "metadata": {},
   "outputs": [
    {
     "data": {
      "text/plain": [
       "array([[ -2.33910794,  -2.16145136,  -3.20062906],\n",
       "       [ -3.48402836,  -2.03941345,  -2.23803389],\n",
       "       [ -3.39280436, -52.23091964,  -2.2455792 ],\n",
       "       [ -2.91515051,  -3.78868898,  -2.13516644],\n",
       "       [ -5.84663753,  -6.55348133,  -3.06005336]])"
      ]
     },
     "execution_count": 21,
     "metadata": {},
     "output_type": "execute_result"
    }
   ],
   "source": [
    "np.tan(90)/a"
   ]
  },
  {
   "cell_type": "code",
   "execution_count": 26,
   "metadata": {},
   "outputs": [
    {
     "data": {
      "text/plain": [
       "array([[ 1.88685256,  1.74354503,  2.58180267],\n",
       "       [ 2.81040806,  1.64510257,  1.8053207 ],\n",
       "       [ 2.73682179, 42.13232002,  1.81140715],\n",
       "       [ 2.35152004,  3.05616401,  1.72234218],\n",
       "       [ 4.716218  ,  5.28639692,  2.46840662]])"
      ]
     },
     "execution_count": 26,
     "metadata": {},
     "output_type": "execute_result"
    }
   ],
   "source": [
    "np.log(5)/a"
   ]
  },
  {
   "cell_type": "code",
   "execution_count": 63,
   "metadata": {},
   "outputs": [
    {
     "data": {
      "text/plain": [
       "(array([[1, 2, 3],\n",
       "        [4, 5, 6],\n",
       "        [7, 8, 9],\n",
       "        [1, 2, 1],\n",
       "        [3, 4, 5]]),\n",
       " array([[ 1,  2,  3,  4,  5],\n",
       "        [ 6,  7,  8,  9, 10],\n",
       "        [11, 12, 13, 14, 15]]))"
      ]
     },
     "execution_count": 63,
     "metadata": {},
     "output_type": "execute_result"
    }
   ],
   "source": [
    "#3 write a numpy program to multiply a 5x3 matrix using matmul\n",
    "m = np.array([[ 1,  2,  3],\n",
    "        [ 4,  5,  6],\n",
    "        [ 7,  8,  9],\n",
    "        [1, 2, 1],\n",
    "        [3, 4, 5]])\n",
    " \n",
    "n = np.arange(1,16).reshape(3,5)\n",
    "m,n"
   ]
  },
  {
   "cell_type": "code",
   "execution_count": 64,
   "metadata": {},
   "outputs": [
    {
     "data": {
      "text/plain": [
       "array([[ 46,  52,  58,  64,  70],\n",
       "       [100, 115, 130, 145, 160],\n",
       "       [154, 178, 202, 226, 250],\n",
       "       [ 24,  28,  32,  36,  40],\n",
       "       [ 82,  94, 106, 118, 130]])"
      ]
     },
     "execution_count": 64,
     "metadata": {},
     "output_type": "execute_result"
    }
   ],
   "source": [
    "np.matmul(m,n)"
   ]
  },
  {
   "cell_type": "code",
   "execution_count": 36,
   "metadata": {},
   "outputs": [
    {
     "data": {
      "text/plain": [
       "array([[1., 0., 0.],\n",
       "       [0., 1., 0.],\n",
       "       [0., 0., 1.]])"
      ]
     },
     "execution_count": 36,
     "metadata": {},
     "output_type": "execute_result"
    }
   ],
   "source": [
    "#4 write a numpy program to create a 3x3 identity matrix\n",
    "identity_matrix = np.eye(3)\n",
    "identity_matrix"
   ]
  },
  {
   "cell_type": "code",
   "execution_count": 65,
   "metadata": {},
   "outputs": [
    {
     "data": {
      "text/plain": [
       "array([ 2,  3,  4,  5,  6,  7,  8,  9, 10])"
      ]
     },
     "execution_count": 65,
     "metadata": {},
     "output_type": "execute_result"
    }
   ],
   "source": [
    "#5 write a numpy program to create a 3x3 matrix with values ranging from 2 to 10\n",
    "d = np.arange(2,11)\n",
    "d"
   ]
  },
  {
   "cell_type": "code",
   "execution_count": 66,
   "metadata": {},
   "outputs": [
    {
     "data": {
      "text/plain": [
       "array([[ 2,  3,  4],\n",
       "       [ 5,  6,  7],\n",
       "       [ 8,  9, 10]])"
      ]
     },
     "execution_count": 66,
     "metadata": {},
     "output_type": "execute_result"
    }
   ],
   "source": [
    "d.reshape(3,3)"
   ]
  },
  {
   "cell_type": "code",
   "execution_count": 50,
   "metadata": {},
   "outputs": [
    {
     "data": {
      "text/plain": [
       "(3, 2)"
      ]
     },
     "execution_count": 50,
     "metadata": {},
     "output_type": "execute_result"
    }
   ],
   "source": [
    "#6 write a numpy program to create a new shape to an array without changing its data(for example a 3x2 matrix to a 2x3 matrix)\n",
    "d = np.array([[1,2],\n",
    "             [4,5],\n",
    "             [7,8]])\n",
    "d.shape"
   ]
  },
  {
   "cell_type": "code",
   "execution_count": 51,
   "metadata": {},
   "outputs": [
    {
     "data": {
      "text/plain": [
       "array([[1, 2, 4],\n",
       "       [5, 7, 8]])"
      ]
     },
     "execution_count": 51,
     "metadata": {},
     "output_type": "execute_result"
    }
   ],
   "source": [
    "d.reshape(2,3)"
   ]
  },
  {
   "cell_type": "code",
   "execution_count": null,
   "metadata": {},
   "outputs": [],
   "source": []
  }
 ],
 "metadata": {
  "kernelspec": {
   "display_name": "Python 3",
   "language": "python",
   "name": "python3"
  },
  "language_info": {
   "codemirror_mode": {
    "name": "ipython",
    "version": 3
   },
   "file_extension": ".py",
   "mimetype": "text/x-python",
   "name": "python",
   "nbconvert_exporter": "python",
   "pygments_lexer": "ipython3",
   "version": "3.7.6"
  }
 },
 "nbformat": 4,
 "nbformat_minor": 4
}
